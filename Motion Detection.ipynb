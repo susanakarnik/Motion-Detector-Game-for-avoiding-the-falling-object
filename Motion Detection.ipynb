{
 "cells": [
  {
   "cell_type": "code",
   "execution_count": 1,
   "metadata": {},
   "outputs": [],
   "source": [
    "import cv2\n",
    "import numpy as np\n",
    "\n",
    "# Capture the webcam\n",
    "cap = cv2.VideoCapture(0)\n",
    "cap.set(cv2.CAP_PROP_FRAME_WIDTH, 640)\n",
    "cap.set(cv2.CAP_PROP_FRAME_HEIGHT, 480)\n",
    "\n",
    "# To capture the background - take a few iterations to stabilize view\n",
    "while True:\n",
    "    # Get the next frame\n",
    "    _, bg_frame = cap.read()\n",
    "    bg_frame = cv2.flip(bg_frame, 1)\n",
    "\n",
    "    # Update the frame in the window\n",
    "    cv2.imshow(\"Webcam\", bg_frame)\n",
    "\n",
    "    # Check if q is pressed, terminate if so\n",
    "    if cv2.waitKey(1) & 0xFF == ord('q'):\n",
    "        break\n",
    "\n",
    "# Processing of frames are done in gray\n",
    "bg_gray = cv2.cvtColor(bg_frame, cv2.COLOR_BGR2GRAY)\n",
    "# We blur it to minimize reaction to small details\n",
    "bg_gray = cv2.GaussianBlur(bg_gray, (5, 5), 0)\n",
    "\n",
    "\n",
    "# This is where the game loop starts\n",
    "while True:\n",
    "    # Get the next frame\n",
    "    _, frame = cap.read()\n",
    "    frame = cv2.flip(frame, 1)\n",
    "\n",
    "    # Processing of frames are done in gray\n",
    "    gray = cv2.cvtColor(frame, cv2.COLOR_BGR2GRAY)\n",
    "    # We blur it to minimize reaction to small details\n",
    "    gray = cv2.GaussianBlur(gray, (5, 5), 0)\n",
    "\n",
    "    # Get the difference from last_frame\n",
    "    delta_frame = cv2.absdiff(bg_gray, gray)\n",
    "    # Have some threshold on what is enough movement\n",
    "    thresh = cv2.threshold(delta_frame, 100, 255, cv2.THRESH_BINARY)[1]\n",
    "    # This dilates with two iterations\n",
    "    thresh = cv2.dilate(thresh, None, iterations=2)\n",
    "    cv2.imshow(\"track\", thresh)\n",
    "\n",
    "   # Update the frame in the window\n",
    "    cv2.imshow(\"Webcam\", frame)\n",
    "\n",
    "    # Check if q is pressed, terminate if so\n",
    "    if cv2.waitKey(1) == ord('q'):\n",
    "        break\n",
    "\n",
    "# Release the webcam and destroy windows\n",
    "cap.release()\n",
    "cv2.destroyAllWindows()"
   ]
  }
 ],
 "metadata": {
  "kernelspec": {
   "display_name": "Python 3",
   "language": "python",
   "name": "python3"
  },
  "language_info": {
   "codemirror_mode": {
    "name": "ipython",
    "version": 3
   },
   "file_extension": ".py",
   "mimetype": "text/x-python",
   "name": "python",
   "nbconvert_exporter": "python",
   "pygments_lexer": "ipython3",
   "version": "3.8.5"
  }
 },
 "nbformat": 4,
 "nbformat_minor": 4
}
